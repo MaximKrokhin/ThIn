{
 "cells": [
  {
   "cell_type": "code",
   "execution_count": 5,
   "metadata": {},
   "outputs": [],
   "source": [
    "from sklearn.feature_extraction.text import CountVectorizer, TfidfTransformer\n",
    "from sklearn.linear_model import LogisticRegression\n",
    "\n",
    "class predictor:\n",
    "  input_data = []\n",
    "  output_data = []\n",
    "  unknown_data = []\n",
    "\n",
    "  def load_data(self, news_train_path, news_test_path):\n",
    "    news_file = open(news_train_path, 'r', encoding='utf-8')\n",
    "    for each_line in news_file:\n",
    "      raw_data = each_line.split('\\t', maxsplit=1)\n",
    "      self.output_data.append(raw_data[0])\n",
    "      self.input_data.append(raw_data[1])\n",
    "    \n",
    "    news_test = open(news_test_path, 'r', encoding='utf-8')\n",
    "    for each_line in news_test:\n",
    "      self.unknown_data.append(each_line)\n",
    "\n",
    "  def __init__(self, news_train_path, news_test_path):\n",
    "    self.load_data(news_train_path, news_test_path)\n",
    "\n",
    "  def predict(self):\n",
    "      countVectorizer = CountVectorizer()\n",
    "      transformer = TfidfTransformer()\n",
    "      \n",
    "      X = countVectorizer.fit_transform(self.input_data)\n",
    "      X = transformer.fit_transform(X)\n",
    "      \n",
    "      text_classifier = LogisticRegression().fit(X, self.output_data)\n",
    "     \n",
    "      X_predict = countVectorizer.transform(self.unknown_data)\n",
    "      X_predict = transformer.transform(X_predict)\n",
    "      predicted_categories = text_classifier.predict(X_predict)\n",
    "      \n",
    "      thefile = open('news_output.txt', 'w')\n",
    "      for category in predicted_categories:\n",
    "        thefile.write(\"%s\\n\" % category)\n",
    "\n",
    "prc = predictor(\"news_train.txt\", \"news_test.txt\")\n",
    "prc.predict()"
   ]
  },
  {
   "cell_type": "code",
   "execution_count": null,
   "metadata": {
    "collapsed": true
   },
   "outputs": [],
   "source": []
  },
  {
   "cell_type": "code",
   "execution_count": null,
   "metadata": {
    "collapsed": true
   },
   "outputs": [],
   "source": []
  },
  {
   "cell_type": "code",
   "execution_count": null,
   "metadata": {
    "collapsed": true
   },
   "outputs": [],
   "source": []
  }
 ],
 "metadata": {
  "kernelspec": {
   "display_name": "Python 3",
   "language": "python",
   "name": "python3"
  },
  "language_info": {
   "codemirror_mode": {
    "name": "ipython",
    "version": 3
   },
   "file_extension": ".py",
   "mimetype": "text/x-python",
   "name": "python",
   "nbconvert_exporter": "python",
   "pygments_lexer": "ipython3",
   "version": "3.6.3"
  }
 },
 "nbformat": 4,
 "nbformat_minor": 2
}
